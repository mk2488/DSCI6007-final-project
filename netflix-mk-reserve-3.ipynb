{
 "cells": [
  {
   "cell_type": "code",
   "execution_count": 1,
   "id": "6fbc393d",
   "metadata": {},
   "outputs": [],
   "source": [
    "#imports\n",
    "import pyspark\n",
    "import os\n",
    "import pandas as pd\n",
    "import numpy as np\n",
    "\n",
    "from pyspark.sql.functions import regexp_extract\n",
    "from pyspark.sql.types import *\n",
    "from pyspark.sql import functions as F\n",
    "from pyspark.sql import SQLContext\n",
    "from pyspark.ml.recommendation import ALS"
   ]
  },
  {
   "cell_type": "code",
   "execution_count": 2,
   "id": "7c4a9c5b",
   "metadata": {},
   "outputs": [],
   "source": [
    "# Change to the location of data files\n",
    "dbfs_dir ='s3://dsci6007-f21-mk-finalproject/Netflix/'\n",
    "train_ratings_filename = dbfs_dir + '/TrainingRatings.txt'\n",
    "test_ratings_filename = dbfs_dir + '/TestingRatings.txt'\n",
    "movies_filename = dbfs_dir + '/movie_titles.txt'"
   ]
  },
  {
   "cell_type": "markdown",
   "id": "be30052b",
   "metadata": {},
   "source": [
    "### Defining an explicit schema"
   ]
  },
  {
   "cell_type": "code",
   "execution_count": 3,
   "id": "f81598df",
   "metadata": {},
   "outputs": [],
   "source": [
    "# MovieID,UserID,Rating\n",
    "train_ratings_df_schema = StructType(\n",
    "  [StructField('MovieId', IntegerType()),\n",
    "   StructField('UserId', IntegerType()),\n",
    "   StructField('Rating', DoubleType())]\n",
    ")\n",
    "\n",
    "# MovieID,UserID,Rating\n",
    "test_ratings_df_schema = StructType(\n",
    "  [StructField('MovieId', IntegerType()),\n",
    "   StructField('UserId', IntegerType()),\n",
    "   StructField('Rating', DoubleType())]\n",
    ")\n",
    "# MovieID,YearOfRelease,Title\n",
    "movies_df_schema = StructType(\n",
    "  [StructField('MovieID', IntegerType()),\n",
    "   StructField('YearOfRelease', IntegerType()),\n",
    "   StructField('Title', StringType())]\n",
    ")"
   ]
  },
  {
   "cell_type": "markdown",
   "id": "53427ec7",
   "metadata": {},
   "source": [
    "#### Load and Cache data"
   ]
  },
  {
   "cell_type": "code",
   "execution_count": 4,
   "id": "ff6f3945",
   "metadata": {},
   "outputs": [
    {
     "data": {
      "text/plain": [
       "DataFrame[MovieID: int, Title: string]"
      ]
     },
     "execution_count": 4,
     "metadata": {},
     "output_type": "execute_result"
    }
   ],
   "source": [
    "train_raw_ratings_df = sqlContext.read.format('csv').options(header=True, inferSchema=False).schema(train_ratings_df_schema).load(train_ratings_filename)\n",
    "train_ratings_df = train_raw_ratings_df\n",
    "\n",
    "test_raw_ratings_df = sqlContext.read.format('csv').options(header=True, inferSchema=False).schema(test_ratings_df_schema).load(test_ratings_filename)\n",
    "test_ratings_df = test_raw_ratings_df\n",
    "\n",
    "raw_movies_df = sqlContext.read.format('csv').options(header=True, inferSchema=False).schema(movies_df_schema).load(movies_filename)\n",
    "movies_df = raw_movies_df.drop('YearOfRelease')\n",
    "\n",
    "train_ratings_df.cache()\n",
    "test_ratings_df.cache()\n",
    "movies_df.cache()"
   ]
  },
  {
   "cell_type": "markdown",
   "id": "50068b28",
   "metadata": {},
   "source": [
    "###  Problem 2: Analyzing the Netflix Data"
   ]
  },
  {
   "cell_type": "markdown",
   "id": "2d0a465e",
   "metadata": {},
   "source": [
    "#### Summary statistics"
   ]
  },
  {
   "cell_type": "code",
   "execution_count": 5,
   "id": "d2d98a8c",
   "metadata": {},
   "outputs": [
    {
     "name": "stderr",
     "output_type": "stream",
     "text": [
      "                                                                                \r"
     ]
    },
    {
     "name": "stdout",
     "output_type": "stream",
     "text": [
      "+-------+-----------------+-----------------+------------------+\n",
      "|summary|          MovieId|           UserId|            Rating|\n",
      "+-------+-----------------+-----------------+------------------+\n",
      "|  count|           100477|           100477|            100477|\n",
      "|   mean| 8701.63431432069|1329963.559849518|3.4794828667257183|\n",
      "| stddev|5098.027090516451|762504.1354759972|1.0852572463859325|\n",
      "|    min|                8|                7|               1.0|\n",
      "|    max|            17742|          2649285|               5.0|\n",
      "+-------+-----------------+-----------------+------------------+\n",
      "\n"
     ]
    }
   ],
   "source": [
    "# test ratings\n",
    "test_ratings_df.describe().show()"
   ]
  },
  {
   "cell_type": "code",
   "execution_count": 6,
   "id": "b2ea2de5",
   "metadata": {},
   "outputs": [
    {
     "name": "stderr",
     "output_type": "stream",
     "text": [
      "[Stage 3:==============>                                            (1 + 3) / 4]"
     ]
    },
    {
     "name": "stdout",
     "output_type": "stream",
     "text": [
      "+-------+-----------------+------------------+------------------+\n",
      "|summary|          MovieId|            UserId|            Rating|\n",
      "+-------+-----------------+------------------+------------------+\n",
      "|  count|          3255351|           3255351|           3255351|\n",
      "|   mean|8724.662781985722|1327058.3376840162|3.4811883572616287|\n",
      "| stddev|5107.400011271949| 762688.7721136078|1.0828725720369496|\n",
      "|    min|                8|                 7|               1.0|\n",
      "|    max|            17742|           2649285|               5.0|\n",
      "+-------+-----------------+------------------+------------------+\n",
      "\n"
     ]
    },
    {
     "name": "stderr",
     "output_type": "stream",
     "text": [
      "                                                                                \r"
     ]
    }
   ],
   "source": [
    "# train ratings\n",
    "train_ratings_df.describe().show()"
   ]
  },
  {
   "cell_type": "code",
   "execution_count": 7,
   "id": "4895072e",
   "metadata": {},
   "outputs": [
    {
     "name": "stderr",
     "output_type": "stream",
     "text": [
      "[Stage 6:>                                                          (0 + 1) / 1]"
     ]
    },
    {
     "name": "stdout",
     "output_type": "stream",
     "text": [
      "+-------+-----------------+--------------------+\n",
      "|summary|          MovieID|               Title|\n",
      "+-------+-----------------+--------------------+\n",
      "|  count|            17769|               17769|\n",
      "|   mean|           8886.0|            Infinity|\n",
      "| stddev|5129.612802151835|                 NaN|\n",
      "|    min|                2|'Allo 'Allo!: Ser...|\n",
      "|    max|            17770|                 sex|\n",
      "+-------+-----------------+--------------------+\n",
      "\n"
     ]
    },
    {
     "name": "stderr",
     "output_type": "stream",
     "text": [
      "                                                                                \r"
     ]
    }
   ],
   "source": [
    "# movies\n",
    "movies_df.describe().show()"
   ]
  },
  {
   "cell_type": "code",
   "execution_count": 8,
   "id": "af8ab3a4",
   "metadata": {},
   "outputs": [
    {
     "name": "stdout",
     "output_type": "stream",
     "text": [
      "There are 3255351 train_ratings, 100477 test_ratings and 17769 movies in the datasets.\n",
      "Train set Ratings:\n",
      "+-------+-------+------+\n",
      "|MovieId| UserId|Rating|\n",
      "+-------+-------+------+\n",
      "|      8|1395430|   2.0|\n",
      "|      8|1205593|   4.0|\n",
      "|      8|1488844|   4.0|\n",
      "|      8|1447354|   1.0|\n",
      "|      8| 306466|   4.0|\n",
      "+-------+-------+------+\n",
      "only showing top 5 rows\n",
      "\n",
      "Test set Ratings:\n",
      "+-------+-------+------+\n",
      "|MovieId| UserId|Rating|\n",
      "+-------+-------+------+\n",
      "|      8|2149668|   3.0|\n",
      "|      8|1089184|   3.0|\n",
      "|      8|2465894|   3.0|\n",
      "|      8| 534508|   1.0|\n",
      "|      8| 992921|   4.0|\n",
      "+-------+-------+------+\n",
      "only showing top 5 rows\n",
      "\n",
      "Movies:\n",
      "+-------+----------------------------+\n",
      "|MovieID|Title                       |\n",
      "+-------+----------------------------+\n",
      "|2      |Isle of Man TT 2004 Review  |\n",
      "|3      |Character                   |\n",
      "|4      |Paula Abdul's Get Up & Dance|\n",
      "|5      |The Rise and Fall of ECW    |\n",
      "|6      |Sick                        |\n",
      "+-------+----------------------------+\n",
      "only showing top 5 rows\n",
      "\n"
     ]
    }
   ],
   "source": [
    "train_raw_ratings_count = train_raw_ratings_df.count()\n",
    "train_ratings_count = train_ratings_df.count()\n",
    "\n",
    "test_raw_ratings_count = test_raw_ratings_df.count()\n",
    "test_ratings_count = test_ratings_df.count()\n",
    "\n",
    "raw_movies_count = raw_movies_df.count()\n",
    "movies_count = movies_df.count()\n",
    "\n",
    "print('There are %s train_ratings, %s test_ratings and %s movies in the datasets.' % (train_ratings_count, test_ratings_count, movies_count))\n",
    "\n",
    "print('Train set Ratings:')\n",
    "train_ratings_df.show(5)\n",
    "\n",
    "print('Test set Ratings:')\n",
    "test_ratings_df.show(5)\n",
    "\n",
    "print('Movies:')\n",
    "movies_df.show(5, truncate=False)"
   ]
  },
  {
   "cell_type": "markdown",
   "id": "65e0a000",
   "metadata": {},
   "source": [
    "#### Movies with Highest Average Ratings"
   ]
  },
  {
   "cell_type": "code",
   "execution_count": 9,
   "id": "2d7ed5c5",
   "metadata": {},
   "outputs": [
    {
     "name": "stdout",
     "output_type": "stream",
     "text": [
      "Rating count per movie and average rating per movie:\n"
     ]
    },
    {
     "name": "stderr",
     "output_type": "stream",
     "text": [
      "[Stage 30:>                                                         (0 + 1) / 1]21/12/15 21:01:12 WARN Utils: Truncated the string representation of a plan since it was too large. This behavior can be adjusted by setting 'spark.debug.maxToStringFields' in SparkEnv.conf.\n"
     ]
    },
    {
     "name": "stdout",
     "output_type": "stream",
     "text": [
      "+-------+------------+------------------+\n",
      "|MovieId|rating_count|average_rating    |\n",
      "+-------+------------+------------------+\n",
      "|2366   |47          |2.851063829787234 |\n",
      "|11317  |35          |3.085714285714286 |\n",
      "|13289  |1           |4.0               |\n",
      "|4190   |3           |4.0               |\n",
      "|9517   |68          |3.3088235294117645|\n",
      "+-------+------------+------------------+\n",
      "only showing top 5 rows\n",
      "\n"
     ]
    },
    {
     "name": "stderr",
     "output_type": "stream",
     "text": [
      "                                                                                \r"
     ]
    }
   ],
   "source": [
    "# movies and their average ratings in test set\n",
    "\n",
    "test_movie_ids_with_avg_ratings_df = test_ratings_df.groupBy('MovieId').agg(F.count(test_ratings_df.Rating).alias(\"rating_count\"), F.avg(test_ratings_df.Rating).alias(\"average_rating\"))\n",
    "print('Rating count per movie and average rating per movie:')\n",
    "test_movie_ids_with_avg_ratings_df.show(5, truncate=False)"
   ]
  },
  {
   "cell_type": "code",
   "execution_count": 10,
   "id": "33f47a10",
   "metadata": {},
   "outputs": [
    {
     "name": "stdout",
     "output_type": "stream",
     "text": [
      "Rating count per user and average rating per User:\n",
      "+-------+----------+-----------------+\n",
      "|UserId |user_count|average_rating   |\n",
      "+-------+----------+-----------------+\n",
      "|2358799|2         |3.5              |\n",
      "|973051 |4         |4.25             |\n",
      "|1189060|3         |3.0              |\n",
      "|2376892|9         |3.888888888888889|\n",
      "|1628484|10        |2.8              |\n",
      "+-------+----------+-----------------+\n",
      "only showing top 5 rows\n",
      "\n"
     ]
    }
   ],
   "source": [
    "# users and their average ratings in test set\n",
    "\n",
    "test_movie_ids_with_avg_ratings_df = test_ratings_df.groupBy('UserId').agg(F.count(test_ratings_df.Rating).alias(\"user_count\"), F.avg(test_ratings_df.Rating).alias(\"average_rating\"))\n",
    "print('Rating count per user and average rating per User:')\n",
    "test_movie_ids_with_avg_ratings_df.show(5, truncate=False)"
   ]
  },
  {
   "cell_type": "code",
   "execution_count": 11,
   "id": "aeaa9a89",
   "metadata": {},
   "outputs": [
    {
     "name": "stdout",
     "output_type": "stream",
     "text": [
      "Rating count per movie and average rating per movie:\n",
      "+-------+------------+------------------+\n",
      "|MovieId|rating_count|average_rating    |\n",
      "+-------+------------+------------------+\n",
      "|2366   |1643        |3.036518563603165 |\n",
      "|4190   |37          |3.054054054054054 |\n",
      "|3220   |1417        |2.9273112208892025|\n",
      "|481    |114         |2.7982456140350878|\n",
      "|3149   |162         |3.2037037037037037|\n",
      "+-------+------------+------------------+\n",
      "only showing top 5 rows\n",
      "\n"
     ]
    }
   ],
   "source": [
    "# movies and their average ratings in train set\n",
    "\n",
    "train_movie_ids_with_avg_ratings_df = train_ratings_df.groupBy('MovieId').agg(F.count(train_ratings_df.Rating).alias(\"rating_count\"), F.avg(train_ratings_df.Rating).alias(\"average_rating\"))\n",
    "print('Rating count per movie and average rating per movie:')\n",
    "train_movie_ids_with_avg_ratings_df.show(5, truncate=False)"
   ]
  },
  {
   "cell_type": "code",
   "execution_count": 12,
   "id": "6bd231c7",
   "metadata": {},
   "outputs": [
    {
     "name": "stdout",
     "output_type": "stream",
     "text": [
      "Rating count per user and average rating per User:\n",
      "+-------+------------+------------------+\n",
      "|UserId |rating_count|average_rating    |\n",
      "+-------+------------+------------------+\n",
      "|1896167|91          |3.21978021978022  |\n",
      "|2358799|107         |3.8130841121495327|\n",
      "|2531111|185         |3.372972972972973 |\n",
      "|1497891|143         |3.195804195804196 |\n",
      "|2629660|180         |3.1333333333333333|\n",
      "+-------+------------+------------------+\n",
      "only showing top 5 rows\n",
      "\n"
     ]
    },
    {
     "name": "stderr",
     "output_type": "stream",
     "text": [
      "                                                                                \r"
     ]
    }
   ],
   "source": [
    "# users and their average ratings in train set\n",
    "\n",
    "train_movie_ids_with_avg_ratings_df = train_ratings_df.groupBy('UserId').agg(F.count(train_ratings_df.Rating).alias(\"rating_count\"), F.avg(train_ratings_df.Rating).alias(\"average_rating\"))\n",
    "print('Rating count per user and average rating per User:')\n",
    "train_movie_ids_with_avg_ratings_df.show(5, truncate=False)"
   ]
  },
  {
   "cell_type": "markdown",
   "id": "a942281a",
   "metadata": {},
   "source": [
    "### 2(a): How many distinct items and users are there in the test set?"
   ]
  },
  {
   "cell_type": "code",
   "execution_count": 13,
   "id": "99d8ba40",
   "metadata": {},
   "outputs": [
    {
     "name": "stdout",
     "output_type": "stream",
     "text": [
      "There are 27555 distinct users and 1701 distinct movies(items) in the test set.\n"
     ]
    }
   ],
   "source": [
    "test_distinct_users = test_ratings_df.select('UserId').distinct().count()\n",
    "test_distinct_movies = test_ratings_df.select('MovieId').distinct().count()\n",
    "print(\"There are {} distinct users and {} distinct movies(items) in the test set.\".format(test_distinct_users, test_distinct_movies))"
   ]
  },
  {
   "cell_type": "markdown",
   "id": "935f2d8f",
   "metadata": {},
   "source": [
    "### 2(b): estimated average overlap of items for users"
   ]
  },
  {
   "cell_type": "markdown",
   "id": "10981867",
   "metadata": {},
   "source": [
    "##### target user 1"
   ]
  },
  {
   "cell_type": "code",
   "execution_count": 14,
   "id": "c7b5d679",
   "metadata": {},
   "outputs": [
    {
     "name": "stdout",
     "output_type": "stream",
     "text": [
      "The first target user I picked from the test set is UserId:534508\n",
      " \n",
      "No of movies rated by the target user in the train set: 101\n",
      " \n",
      "movies rated by target user 534508 :\n",
      "+-------+------+------+\n",
      "|MovieId|UserId|Rating|\n",
      "+-------+------+------+\n",
      "|111    |534508|2.0   |\n",
      "|443    |534508|4.0   |\n",
      "|452    |534508|4.0   |\n",
      "|718    |534508|5.0   |\n",
      "|725    |534508|3.0   |\n",
      "+-------+------+------+\n",
      "only showing top 5 rows\n",
      "\n"
     ]
    }
   ],
   "source": [
    "# pick a user from the test set and extract the items this user has rated in the training set\n",
    "# how many other users in the training set have rated the same movies as user=534508\n",
    "\n",
    "# users from test set: 1447354, 534508, 992921\n",
    "\n",
    "print(\"The first target user I picked from the test set is UserId:534508\")\n",
    "print(\" \")\n",
    "\n",
    "user_id = 534508\n",
    "movies_rated_by_target_user_df = train_ratings_df.filter(\"UserId  == 534508\")\n",
    "\n",
    "print(\"No of movies rated by the target user in the train set:\", movies_rated_by_target_user_df.count())\n",
    "print(\" \")\n",
    "print('movies rated by target user', user_id, \":\")\n",
    "movies_rated_by_target_user_df.show(5, truncate = False)"
   ]
  },
  {
   "cell_type": "code",
   "execution_count": 15,
   "id": "b1fef295",
   "metadata": {},
   "outputs": [
    {
     "name": "stdout",
     "output_type": "stream",
     "text": [
      "The total number of users in the train set, who have rated the same movies as the target user rated: 889999\n",
      "Overlap of an item for target user:\n",
      "+-------+----------+\n",
      "|MovieId|user_count|\n",
      "+-------+----------+\n",
      "|   4119|       825|\n",
      "|   8354|      1925|\n",
      "|  12293|     20691|\n",
      "|  14317|      7965|\n",
      "|   8163|      2483|\n",
      "|  11888|     15196|\n",
      "|  14407|     10218|\n",
      "|   3893|     11799|\n",
      "|   9481|     12893|\n",
      "|  12472|       218|\n",
      "|  16147|     10430|\n",
      "|   4546|      6189|\n",
      "|   8596|     23005|\n",
      "|   5814|     18298|\n",
      "|  16784|      3521|\n",
      "|   3170|       793|\n",
      "|   1305|      8707|\n",
      "|  10561|      2892|\n",
      "|  13614|     19316|\n",
      "|   2251|      3710|\n",
      "+-------+----------+\n",
      "only showing top 20 rows\n",
      "\n"
     ]
    }
   ],
   "source": [
    "#list of movies rated by target user in training set\n",
    "list_movie_rated_by_target_user = movies_rated_by_target_user_df.select('MovieId')\n",
    "#print(list_movie_rated_by_target_user)\n",
    "\n",
    "# converting list to array\n",
    "movies_array = [int(row.MovieId) for row in list_movie_rated_by_target_user.collect()]\n",
    "#print(len(movies_array))\n",
    "\n",
    "# now lets get all the users in the train set, who have rated the same movies as 534508 rated\n",
    "\n",
    "total_overlap_item_user = train_ratings_df[train_ratings_df['MovieId'].isin(movies_array)].count()\n",
    "print(\"The total number of users in the train set, who have rated the same movies as the target user rated:\", total_overlap_item_user)\n",
    "\n",
    "print(\"Overlap of an item for target user:\")\n",
    "overlap_item_user = train_ratings_df[train_ratings_df['MovieId'].isin(movies_array)]\n",
    "overlap_item_user = overlap_item_user.groupBy('MovieId').agg(F.count(overlap_item_user.UserId).alias(\"user_count\"))\n",
    "overlap_item_user.show()"
   ]
  },
  {
   "cell_type": "code",
   "execution_count": 16,
   "id": "2d2e09be",
   "metadata": {},
   "outputs": [
    {
     "data": {
      "text/plain": [
       "[Row(avg(user_count)=8811.871287128713)]"
      ]
     },
     "execution_count": 16,
     "metadata": {},
     "output_type": "execute_result"
    }
   ],
   "source": [
    "u1 = overlap_item_user.groupBy().avg('user_count').collect()\n",
    "u1"
   ]
  },
  {
   "cell_type": "code",
   "execution_count": 17,
   "id": "cb65507c",
   "metadata": {},
   "outputs": [
    {
     "name": "stdout",
     "output_type": "stream",
     "text": [
      "+-------+------------------+-----------------+\n",
      "|summary|           MovieId|       user_count|\n",
      "+-------+------------------+-----------------+\n",
      "|  count|               101|              101|\n",
      "|   mean| 8828.138613861385|8811.871287128713|\n",
      "| stddev|5445.4343280030525|7279.235960818095|\n",
      "|    min|               111|               46|\n",
      "|    max|             17411|            24393|\n",
      "+-------+------------------+-----------------+\n",
      "\n",
      "The average overlap of items for first target user 534508 is:  8812\n"
     ]
    }
   ],
   "source": [
    "overlap_item_user.describe().show()\n",
    "user_id = 534508 \n",
    "print(\"The average overlap of items for first target user\", user_id, \"is: \", \"8812\")"
   ]
  },
  {
   "cell_type": "markdown",
   "id": "d5137938",
   "metadata": {},
   "source": [
    "##### target user 2"
   ]
  },
  {
   "cell_type": "code",
   "execution_count": 18,
   "id": "85b8227a",
   "metadata": {},
   "outputs": [
    {
     "name": "stdout",
     "output_type": "stream",
     "text": [
      "The second target user I picked from the test set is UserId:1447354\n",
      " \n",
      "No of movies rated by the target user in the train set: 79\n",
      " \n",
      "movies rated by target user 1447354 :\n",
      "+-------+-------+------+\n",
      "|MovieId|UserId |Rating|\n",
      "+-------+-------+------+\n",
      "|8      |1447354|1.0   |\n",
      "|417    |1447354|5.0   |\n",
      "|1140   |1447354|3.0   |\n",
      "|1305   |1447354|4.0   |\n",
      "|1367   |1447354|2.0   |\n",
      "+-------+-------+------+\n",
      "only showing top 5 rows\n",
      "\n"
     ]
    }
   ],
   "source": [
    "# pick a user from the test set and extract the items this user has rated in the training set\n",
    "# how many other users in the training set have rated the same movies as user=534508\n",
    "\n",
    "# users from test set: 534508, 1447354,992921\n",
    "\n",
    "print(\"The second target user I picked from the test set is UserId:1447354\")\n",
    "print(\" \")\n",
    "\n",
    "user_id = 1447354\n",
    "movies_rated_by_target_user_df = train_ratings_df.filter(\"UserId  == 1447354\")\n",
    "\n",
    "print(\"No of movies rated by the target user in the train set:\", movies_rated_by_target_user_df.count())\n",
    "print(\" \")\n",
    "print('movies rated by target user', user_id, \":\")\n",
    "movies_rated_by_target_user_df.show(5, truncate = False)"
   ]
  },
  {
   "cell_type": "code",
   "execution_count": 19,
   "id": "dc76d988",
   "metadata": {},
   "outputs": [
    {
     "name": "stdout",
     "output_type": "stream",
     "text": [
      "The total number of users in the train set, who have rated the same movies as the target user rated: 957152\n",
      "Overlap of an item for target user:\n",
      "+-------+----------+\n",
      "|MovieId|user_count|\n",
      "+-------+----------+\n",
      "|    417|       815|\n",
      "|   6110|      5325|\n",
      "|   5025|      9653|\n",
      "|   1406|     20631|\n",
      "|   2356|      1601|\n",
      "|   8596|     23005|\n",
      "|      8|      2830|\n",
      "|  13651|     20902|\n",
      "|  13614|     19316|\n",
      "|   1305|      8707|\n",
      "|  14185|     15690|\n",
      "|   2660|     20153|\n",
      "|   9617|     16546|\n",
      "|   5963|      2502|\n",
      "|   2866|      8822|\n",
      "|  10429|     11567|\n",
      "|  16153|      1163|\n",
      "|   3743|      2275|\n",
      "|   6482|     19580|\n",
      "|   5069|     12869|\n",
      "+-------+----------+\n",
      "only showing top 20 rows\n",
      "\n"
     ]
    }
   ],
   "source": [
    "#list of movies rated by target user in training set\n",
    "list_movie_rated_by_target_user = movies_rated_by_target_user_df.select('MovieId')\n",
    "#print(list_movie_rated_by_target_user)\n",
    "\n",
    "# converting list to array\n",
    "movies_array = [int(row.MovieId) for row in list_movie_rated_by_target_user.collect()]\n",
    "#print(len(movies_array))\n",
    "\n",
    "# now lets get all the users in the train set, who have rated the same movies as 1447354 rated\n",
    "\n",
    "total_overlap_item_user = train_ratings_df[train_ratings_df['MovieId'].isin(movies_array)].count()\n",
    "print(\"The total number of users in the train set, who have rated the same movies as the target user rated:\", total_overlap_item_user)\n",
    "\n",
    "print(\"Overlap of an item for target user:\")\n",
    "overlap_item_user = train_ratings_df[train_ratings_df['MovieId'].isin(movies_array)]\n",
    "overlap_item_user = overlap_item_user.groupBy('MovieId').agg(F.count(overlap_item_user.UserId).alias(\"user_count\"))\n",
    "overlap_item_user.show()"
   ]
  },
  {
   "cell_type": "code",
   "execution_count": 20,
   "id": "9a6e3083",
   "metadata": {},
   "outputs": [
    {
     "data": {
      "text/plain": [
       "[Row(avg(user_count)=12115.848101265823)]"
      ]
     },
     "execution_count": 20,
     "metadata": {},
     "output_type": "execute_result"
    }
   ],
   "source": [
    "u2 = overlap_item_user.groupBy().avg('user_count').collect()\n",
    "u2"
   ]
  },
  {
   "cell_type": "code",
   "execution_count": 21,
   "id": "fbdf7066",
   "metadata": {},
   "outputs": [
    {
     "name": "stdout",
     "output_type": "stream",
     "text": [
      "+-------+------------------+------------------+\n",
      "|summary|           MovieId|        user_count|\n",
      "+-------+------------------+------------------+\n",
      "|  count|                79|                79|\n",
      "|   mean|8190.7468354430375|12115.848101265823|\n",
      "| stddev|  5029.74747153311| 6821.628339876057|\n",
      "|    min|                 8|               409|\n",
      "|    max|             17174|             25468|\n",
      "+-------+------------------+------------------+\n",
      "\n",
      "The average overlap of items for second target user 1447354 is:  12116\n"
     ]
    }
   ],
   "source": [
    "overlap_item_user.describe().show()\n",
    "user_id = 1447354\n",
    "print(\"The average overlap of items for second target user\", user_id, \"is: \", \"12116\")"
   ]
  },
  {
   "cell_type": "markdown",
   "id": "4fcab30e",
   "metadata": {},
   "source": [
    "##### target user 3"
   ]
  },
  {
   "cell_type": "code",
   "execution_count": 22,
   "id": "f84e7591",
   "metadata": {},
   "outputs": [
    {
     "name": "stdout",
     "output_type": "stream",
     "text": [
      "The first target user I picked from the test set is UserId:992921\n",
      " \n",
      "No of movies rated by the target user in the train set: 79\n",
      " \n",
      "movies rated by target user 992921 :\n",
      "+-------+------+------+\n",
      "|MovieId|UserId|Rating|\n",
      "+-------+------+------+\n",
      "|305    |992921|3.0   |\n",
      "|851    |992921|3.0   |\n",
      "|1123   |992921|3.0   |\n",
      "|1256   |992921|4.0   |\n",
      "|1367   |992921|4.0   |\n",
      "+-------+------+------+\n",
      "only showing top 5 rows\n",
      "\n"
     ]
    }
   ],
   "source": [
    "# pick a user from the test set and extract the items this user has rated in the training set\n",
    "# how many other users in the training set have rated the same movies as user=534508\n",
    "\n",
    "# users from test set: 1447354, 534508, 992921\n",
    "\n",
    "print(\"The first target user I picked from the test set is UserId:992921\")\n",
    "print(\" \")\n",
    "\n",
    "user_id = 992921\n",
    "movies_rated_by_target_user_df = train_ratings_df.filter(\"UserId  == 992921\")\n",
    "\n",
    "print(\"No of movies rated by the target user in the train set:\", movies_rated_by_target_user_df.count())\n",
    "print(\" \")\n",
    "print('movies rated by target user', user_id, \":\")\n",
    "movies_rated_by_target_user_df.show(5, truncate = False)"
   ]
  },
  {
   "cell_type": "code",
   "execution_count": 23,
   "id": "0fbc0d3b",
   "metadata": {},
   "outputs": [
    {
     "name": "stdout",
     "output_type": "stream",
     "text": [
      "The total number of users in the train set, who have rated the same movies as the target user rated: 985708\n",
      "Overlap of an item for target user:\n",
      "+-------+----------+\n",
      "|MovieId|user_count|\n",
      "+-------+----------+\n",
      "|   1425|      8552|\n",
      "|   1615|     18043|\n",
      "|  12293|     20691|\n",
      "|   1406|     20631|\n",
      "|   8596|     23005|\n",
      "|  14505|      2244|\n",
      "|   1256|      3722|\n",
      "|  13651|     20902|\n",
      "|  13614|     19316|\n",
      "|   1757|      2625|\n",
      "|  14185|     15690|\n",
      "|   2660|     20153|\n",
      "|   2866|      8822|\n",
      "|   9617|     16546|\n",
      "|   6482|     19580|\n",
      "|  14283|      3330|\n",
      "|  16948|      8950|\n",
      "|  12232|     20275|\n",
      "|  10889|      9579|\n",
      "|  16082|     16542|\n",
      "+-------+----------+\n",
      "only showing top 20 rows\n",
      "\n"
     ]
    }
   ],
   "source": [
    "#list of movies rated by target user in training set\n",
    "list_movie_rated_by_target_user = movies_rated_by_target_user_df.select('MovieId')\n",
    "#print(list_movie_rated_by_target_user)\n",
    "\n",
    "# converting list to array\n",
    "movies_array = [int(row.MovieId) for row in list_movie_rated_by_target_user.collect()]\n",
    "#print(len(movies_array))\n",
    "\n",
    "# now lets get all the users in the train set, who have rated the same movies as 992921 rated\n",
    "\n",
    "total_overlap_item_user = train_ratings_df[train_ratings_df['MovieId'].isin(movies_array)].count()\n",
    "print(\"The total number of users in the train set, who have rated the same movies as the target user rated:\", total_overlap_item_user)\n",
    "\n",
    "print(\"Overlap of an item for target user:\")\n",
    "overlap_item_user = train_ratings_df[train_ratings_df['MovieId'].isin(movies_array)]\n",
    "overlap_item_user = overlap_item_user.groupBy('MovieId').agg(F.count(overlap_item_user.UserId).alias(\"user_count\"))\n",
    "overlap_item_user.show()"
   ]
  },
  {
   "cell_type": "code",
   "execution_count": 24,
   "id": "d14e95b7",
   "metadata": {},
   "outputs": [
    {
     "data": {
      "text/plain": [
       "[Row(avg(user_count)=12477.316455696202)]"
      ]
     },
     "execution_count": 24,
     "metadata": {},
     "output_type": "execute_result"
    }
   ],
   "source": [
    "u3 = overlap_item_user.groupBy().avg('user_count').collect()\n",
    "u3"
   ]
  },
  {
   "cell_type": "code",
   "execution_count": 25,
   "id": "271df831",
   "metadata": {},
   "outputs": [
    {
     "name": "stdout",
     "output_type": "stream",
     "text": [
      "+-------+-----------------+------------------+\n",
      "|summary|          MovieId|        user_count|\n",
      "+-------+-----------------+------------------+\n",
      "|  count|               79|                79|\n",
      "|   mean|8398.556962025317|12477.316455696202|\n",
      "| stddev|5399.468947645271| 6441.574096016387|\n",
      "|    min|              305|              1504|\n",
      "|    max|            17574|             25468|\n",
      "+-------+-----------------+------------------+\n",
      "\n",
      "The average overlap of items for third target user 992921 is:  12477\n"
     ]
    }
   ],
   "source": [
    "overlap_item_user.describe().show()\n",
    "user_id = 992921 \n",
    "print(\"The average overlap of items for third target user\", user_id, \"is: \", \"12477\")"
   ]
  },
  {
   "cell_type": "code",
   "execution_count": 26,
   "id": "ff563083",
   "metadata": {},
   "outputs": [
    {
     "name": "stdout",
     "output_type": "stream",
     "text": [
      "The estimated average overlap of item for users is:  11135.011948030246\n"
     ]
    }
   ],
   "source": [
    "average_overlap_items_three_users = u1[0] + u2[0] + u3[0]\n",
    "estimated_average_overlap_item_users = 0\n",
    "for item in average_overlap_items_three_users:\n",
    "    estimated_average_overlap_item_users += item/3\n",
    "    \n",
    "print(\"The estimated average overlap of item for users is: \", estimated_average_overlap_item_users)"
   ]
  },
  {
   "cell_type": "markdown",
   "id": "36c5793e",
   "metadata": {},
   "source": [
    "### estimated average over lap of users for items"
   ]
  },
  {
   "cell_type": "markdown",
   "id": "268ffbf7",
   "metadata": {},
   "source": [
    "##### target movie 1"
   ]
  },
  {
   "cell_type": "code",
   "execution_count": 27,
   "id": "d9731795",
   "metadata": {},
   "outputs": [
    {
     "name": "stdout",
     "output_type": "stream",
     "text": [
      "The first target movie I picked from the test set is MovieId: 481\n",
      " \n",
      "No of users who rated the target movie in the train set: 114\n",
      " \n",
      "users who rated target movie 992921 :\n",
      "+-------+-------+------+\n",
      "|MovieId|UserId |Rating|\n",
      "+-------+-------+------+\n",
      "|481    |519545 |4.0   |\n",
      "|481    |491331 |2.0   |\n",
      "|481    |1300793|3.0   |\n",
      "|481    |2602249|3.0   |\n",
      "|481    |1227322|3.0   |\n",
      "+-------+-------+------+\n",
      "only showing top 5 rows\n",
      "\n"
     ]
    }
   ],
   "source": [
    "# pick a target movie from the test set and extract the users that rated this movie in the training set\n",
    "# how many other movies in the training set have been rated by the users who also rated target movie\n",
    "\n",
    "# movies from test set: 481, 2366, 3149 \n",
    "\n",
    "print(\"The first target movie I picked from the test set is MovieId: 481\")\n",
    "print(\" \")\n",
    "\n",
    "movie_id = 992921\n",
    "users_who_rated_target_movie_df = train_ratings_df.filter(\"MovieId  == 481\")\n",
    "\n",
    "print(\"No of users who rated the target movie in the train set:\", users_who_rated_target_movie_df.count())\n",
    "print(\" \")\n",
    "print('users who rated target movie', movie_id, \":\")\n",
    "users_who_rated_target_movie_df.show(5, truncate = False)"
   ]
  },
  {
   "cell_type": "code",
   "execution_count": 28,
   "id": "d7b354f1",
   "metadata": {},
   "outputs": [
    {
     "name": "stdout",
     "output_type": "stream",
     "text": [
      "The total number of movies in the train set, who have rated the same movies as the target user rated: 34568\n",
      "Overlap of users for target item:\n",
      "+-------+-----------+\n",
      "| UserId|movie_count|\n",
      "+-------+-----------+\n",
      "| 421240|         79|\n",
      "| 912542|         85|\n",
      "|2289098|         96|\n",
      "|1900445|        169|\n",
      "|2397454|         84|\n",
      "|1932594|        848|\n",
      "|2315012|        390|\n",
      "|2436452|        109|\n",
      "|1918794|        111|\n",
      "| 863644|        126|\n",
      "| 682963|        520|\n",
      "|1275094|        241|\n",
      "|2260738|         74|\n",
      "| 507094|        367|\n",
      "|1227322|        490|\n",
      "|2009329|         99|\n",
      "|1659647|        150|\n",
      "| 731685|        167|\n",
      "| 251967|         89|\n",
      "| 769702|        377|\n",
      "+-------+-----------+\n",
      "only showing top 20 rows\n",
      "\n"
     ]
    }
   ],
   "source": [
    "#list of users who rated target movie in training set\n",
    "list_users_who_rated_target_movie = users_who_rated_target_movie_df.select('UserId')\n",
    "#print(list_movie_rated_by_target_user)\n",
    "\n",
    "# converting list to array\n",
    "users_array = [int(row.UserId) for row in list_users_who_rated_target_movie.collect()]\n",
    "#print(len(users_array))\n",
    "\n",
    "# now lets get all the movies in the train set rated by uers who have rated the target movie 481\n",
    "\n",
    "total_overlap_user_item = train_ratings_df[train_ratings_df['UserId'].isin(users_array)].count()\n",
    "print(\"The total number of movies in the train set, who have rated the same movies as the target user rated:\", total_overlap_user_item)\n",
    "\n",
    "print(\"Overlap of users for target item:\")\n",
    "overlap_user_item = train_ratings_df[train_ratings_df['UserId'].isin(users_array)]\n",
    "overlap_user_item = overlap_user_item.groupBy('UserId').agg(F.count(overlap_user_item.MovieId).alias(\"movie_count\"))\n",
    "overlap_user_item.show()"
   ]
  },
  {
   "cell_type": "code",
   "execution_count": 29,
   "id": "22cc30de",
   "metadata": {},
   "outputs": [
    {
     "data": {
      "text/plain": [
       "[Row(avg(movie_count)=303.2280701754386)]"
      ]
     },
     "execution_count": 29,
     "metadata": {},
     "output_type": "execute_result"
    }
   ],
   "source": [
    "m1 = overlap_user_item.groupBy().avg('movie_count').collect()\n",
    "m1"
   ]
  },
  {
   "cell_type": "code",
   "execution_count": 30,
   "id": "644b8007",
   "metadata": {},
   "outputs": [
    {
     "name": "stdout",
     "output_type": "stream",
     "text": [
      "+-------+------------------+------------------+\n",
      "|summary|            UserId|       movie_count|\n",
      "+-------+------------------+------------------+\n",
      "|  count|               114|               114|\n",
      "|   mean|1340480.6140350876| 303.2280701754386|\n",
      "| stddev| 776819.3275789219|333.59752750213073|\n",
      "|    min|             27165|                74|\n",
      "|    max|           2617950|              1757|\n",
      "+-------+------------------+------------------+\n",
      "\n",
      "The average overlap of users for first target movie 481 is:  303 \n"
     ]
    }
   ],
   "source": [
    "overlap_user_item.describe().show()\n",
    "movie_id = 481 \n",
    "print(\"The average overlap of users for first target movie\", movie_id, \"is: \", \"303 \")"
   ]
  },
  {
   "cell_type": "markdown",
   "id": "bf364d48",
   "metadata": {},
   "source": [
    "##### target movie 2"
   ]
  },
  {
   "cell_type": "code",
   "execution_count": 31,
   "id": "27fc1be1",
   "metadata": {},
   "outputs": [
    {
     "name": "stdout",
     "output_type": "stream",
     "text": [
      "The second target movie I picked from the test set is MovieId: 2366\n",
      " \n",
      "No of users who rated the target movie in the train set: 1643\n",
      " \n",
      "users who rated target movie 3149 :\n",
      "+-------+-------+------+\n",
      "|MovieId|UserId |Rating|\n",
      "+-------+-------+------+\n",
      "|2366   |1945809|1.0   |\n",
      "|2366   |41412  |4.0   |\n",
      "|2366   |2422606|4.0   |\n",
      "|2366   |1276913|4.0   |\n",
      "|2366   |2581970|3.0   |\n",
      "+-------+-------+------+\n",
      "only showing top 5 rows\n",
      "\n"
     ]
    }
   ],
   "source": [
    "# pick a target movie from the test set and extract the users that rated this movie in the training set\n",
    "# how many other movies in the training set have been rated by the users who also rated target movie\n",
    "\n",
    "# movies from test set: 481, 2366, 3149 \n",
    "\n",
    "print(\"The second target movie I picked from the test set is MovieId: 2366\")\n",
    "print(\" \")\n",
    "\n",
    "movie_id = 3149 \n",
    "users_who_rated_target_movie_df = train_ratings_df.filter(\"MovieId  == 2366\")\n",
    "\n",
    "print(\"No of users who rated the target movie in the train set:\", users_who_rated_target_movie_df.count())\n",
    "print(\" \")\n",
    "print('users who rated target movie', movie_id, \":\")\n",
    "users_who_rated_target_movie_df.show(5, truncate = False)"
   ]
  },
  {
   "cell_type": "code",
   "execution_count": 32,
   "id": "0fdd40d6",
   "metadata": {},
   "outputs": [
    {
     "name": "stdout",
     "output_type": "stream",
     "text": [
      "The total number of movies in the train set, who have rated the same movies as the target user rated: 266348\n",
      "Overlap of users for target item:\n",
      "+-------+-----------+\n",
      "| UserId|movie_count|\n",
      "+-------+-----------+\n",
      "|1552084|        184|\n",
      "|1629521|         82|\n",
      "|1628484|        205|\n",
      "|1189060|         78|\n",
      "|1704384|        105|\n",
      "| 713980|         78|\n",
      "| 110938|        267|\n",
      "|1684416|        270|\n",
      "| 861862|        100|\n",
      "| 599480|        129|\n",
      "|2124531|         75|\n",
      "| 477387|        141|\n",
      "| 333426|         92|\n",
      "|1723385|        118|\n",
      "|1293986|        131|\n",
      "| 212883|        117|\n",
      "|2473973|         94|\n",
      "|2645399|         94|\n",
      "|1384003|         83|\n",
      "|1906611|        218|\n",
      "+-------+-----------+\n",
      "only showing top 20 rows\n",
      "\n"
     ]
    }
   ],
   "source": [
    "#list of users who rated target movie in training set\n",
    "list_users_who_rated_target_movie = users_who_rated_target_movie_df.select('UserId')\n",
    "#print(list_movie_rated_by_target_user)\n",
    "\n",
    "# converting list to array\n",
    "users_array = [int(row.UserId) for row in list_users_who_rated_target_movie.collect()]\n",
    "#print(len(users_array))\n",
    "\n",
    "# now lets get all the movies in the train set rated by uers who have rated the target movie 2366\n",
    "\n",
    "total_overlap_user_item = train_ratings_df[train_ratings_df['UserId'].isin(users_array)].count()\n",
    "print(\"The total number of movies in the train set, who have rated the same movies as the target user rated:\", total_overlap_user_item)\n",
    "\n",
    "print(\"Overlap of users for target item:\")\n",
    "overlap_user_item = train_ratings_df[train_ratings_df['UserId'].isin(users_array)]\n",
    "overlap_user_item = overlap_user_item.groupBy('UserId').agg(F.count(overlap_user_item.MovieId).alias(\"movie_count\"))\n",
    "overlap_user_item.show()"
   ]
  },
  {
   "cell_type": "code",
   "execution_count": 33,
   "id": "f0f36bef",
   "metadata": {},
   "outputs": [
    {
     "data": {
      "text/plain": [
       "[Row(avg(movie_count)=162.11077297626292)]"
      ]
     },
     "execution_count": 33,
     "metadata": {},
     "output_type": "execute_result"
    }
   ],
   "source": [
    "m2 = overlap_user_item.groupBy().avg('movie_count').collect()\n",
    "m2"
   ]
  },
  {
   "cell_type": "code",
   "execution_count": 34,
   "id": "559c6337",
   "metadata": {},
   "outputs": [
    {
     "name": "stdout",
     "output_type": "stream",
     "text": [
      "+-------+-----------------+------------------+\n",
      "|summary|           UserId|       movie_count|\n",
      "+-------+-----------------+------------------+\n",
      "|  count|             1643|              1643|\n",
      "|   mean|1335307.347534997|162.11077297626292|\n",
      "| stddev|760553.7139657538|114.70887749834162|\n",
      "|    min|             2976|                71|\n",
      "|    max|          2648853|              1757|\n",
      "+-------+-----------------+------------------+\n",
      "\n",
      "The average overlap of users for second target movie 2366 is:  162\n"
     ]
    }
   ],
   "source": [
    "overlap_user_item.describe().show()\n",
    "movie_id = 2366\n",
    "print(\"The average overlap of users for second target movie\", movie_id, \"is: \", \"162\")"
   ]
  },
  {
   "cell_type": "markdown",
   "id": "6afdc4df",
   "metadata": {},
   "source": [
    "##### target movie 3"
   ]
  },
  {
   "cell_type": "code",
   "execution_count": 35,
   "id": "8c00befc",
   "metadata": {},
   "outputs": [
    {
     "name": "stdout",
     "output_type": "stream",
     "text": [
      "The third target movie I picked from the test set is MovieId: 3149 \n",
      " \n",
      "No of users who rated the target movie in the train set: 162\n",
      " \n",
      "users who rated target movie 3149 :\n",
      "+-------+-------+------+\n",
      "|MovieId|UserId |Rating|\n",
      "+-------+-------+------+\n",
      "|3149   |1850680|1.0   |\n",
      "|3149   |2245579|3.0   |\n",
      "|3149   |2609870|1.0   |\n",
      "|3149   |1574266|4.0   |\n",
      "|3149   |1248029|3.0   |\n",
      "+-------+-------+------+\n",
      "only showing top 5 rows\n",
      "\n"
     ]
    }
   ],
   "source": [
    "# pick a target movie from the test set and extract the users that rated this movie in the training set\n",
    "# how many other movies in the training set have been rated by the users who also rated target movie\n",
    "\n",
    "# movies from test set: 481, 2366, 3149 \n",
    "\n",
    "print(\"The third target movie I picked from the test set is MovieId: 3149 \")\n",
    "print(\" \")\n",
    "\n",
    "movie_id = 3149 \n",
    "users_who_rated_target_movie_df = train_ratings_df.filter(\"MovieId  == 3149 \")\n",
    "\n",
    "print(\"No of users who rated the target movie in the train set:\", users_who_rated_target_movie_df.count())\n",
    "print(\" \")\n",
    "print('users who rated target movie', movie_id, \":\")\n",
    "users_who_rated_target_movie_df.show(5, truncate = False)"
   ]
  },
  {
   "cell_type": "code",
   "execution_count": 36,
   "id": "4e8fad39",
   "metadata": {},
   "outputs": [
    {
     "name": "stdout",
     "output_type": "stream",
     "text": [
      "The total number of movies in the train set, who have rated the same movies as the target user rated: 34851\n",
      "Overlap of users for target item:\n",
      "+-------+-----------+\n",
      "| UserId|movie_count|\n",
      "+-------+-----------+\n",
      "| 554587|        208|\n",
      "|2269379|         88|\n",
      "|1317009|         89|\n",
      "| 273576|         72|\n",
      "|2098006|        158|\n",
      "| 370735|        197|\n",
      "|2080458|        102|\n",
      "|2381792|        163|\n",
      "|1018465|        146|\n",
      "|2436452|        109|\n",
      "|1916315|         87|\n",
      "| 152178|        116|\n",
      "| 113983|         89|\n",
      "|2409015|        113|\n",
      "|1406700|         90|\n",
      "| 842706|        104|\n",
      "|1037245|        542|\n",
      "|2448620|        112|\n",
      "|2115291|        115|\n",
      "|1317589|        133|\n",
      "+-------+-----------+\n",
      "only showing top 20 rows\n",
      "\n"
     ]
    }
   ],
   "source": [
    "#list of users who rated target movie in training set\n",
    "list_users_who_rated_target_movie = users_who_rated_target_movie_df.select('UserId')\n",
    "#print(list_movie_rated_by_target_user)\n",
    "\n",
    "# converting list to array\n",
    "users_array = [int(row.UserId) for row in list_users_who_rated_target_movie.collect()]\n",
    "#print(len(users_array))\n",
    "\n",
    "# now lets get all the movies in the train set rated by uers who have rated the target movie 3149\n",
    "\n",
    "total_overlap_user_item = train_ratings_df[train_ratings_df['UserId'].isin(users_array)].count()\n",
    "print(\"The total number of movies in the train set, who have rated the same movies as the target user rated:\", total_overlap_user_item)\n",
    "\n",
    "print(\"Overlap of users for target item:\")\n",
    "overlap_user_item = train_ratings_df[train_ratings_df['UserId'].isin(users_array)]\n",
    "overlap_user_item = overlap_user_item.groupBy('UserId').agg(F.count(overlap_user_item.MovieId).alias(\"movie_count\"))\n",
    "overlap_user_item.show()"
   ]
  },
  {
   "cell_type": "code",
   "execution_count": 37,
   "id": "79c805bc",
   "metadata": {},
   "outputs": [
    {
     "data": {
      "text/plain": [
       "[Row(avg(movie_count)=215.12962962962962)]"
      ]
     },
     "execution_count": 37,
     "metadata": {},
     "output_type": "execute_result"
    }
   ],
   "source": [
    "m3 = overlap_user_item.groupBy().avg('movie_count').collect()\n",
    "m3"
   ]
  },
  {
   "cell_type": "code",
   "execution_count": 38,
   "id": "26a692a8",
   "metadata": {},
   "outputs": [
    {
     "name": "stdout",
     "output_type": "stream",
     "text": [
      "+-------+------------------+------------------+\n",
      "|summary|            UserId|       movie_count|\n",
      "+-------+------------------+------------------+\n",
      "|  count|               162|               162|\n",
      "|   mean|1374304.3580246915|215.12962962962962|\n",
      "| stddev| 737302.2546868202| 249.0907225505027|\n",
      "|    min|             86246|                72|\n",
      "|    max|           2647396|              1757|\n",
      "+-------+------------------+------------------+\n",
      "\n",
      "The average overlap of users for first target movie 3149 is:  215\n"
     ]
    }
   ],
   "source": [
    "overlap_user_item.describe().show()\n",
    "movie_id = 3149\n",
    "print(\"The average overlap of users for first target movie\", movie_id, \"is: \", \"215\")"
   ]
  },
  {
   "cell_type": "code",
   "execution_count": 39,
   "id": "588aba9d",
   "metadata": {},
   "outputs": [
    {
     "name": "stdout",
     "output_type": "stream",
     "text": [
      "The estimated average overlap of users for items is:  226.8228242604437\n"
     ]
    }
   ],
   "source": [
    "average_overlap_users_three_items = m1[0] + m2[0] + m3[0]\n",
    "estimated_average_overlap_users_items = 0\n",
    "for user in average_overlap_users_three_items:\n",
    "    estimated_average_overlap_users_items += user/3\n",
    "    \n",
    "print(\"The estimated average overlap of users for items is: \", estimated_average_overlap_users_items)"
   ]
  },
  {
   "cell_type": "markdown",
   "id": "1b36441b",
   "metadata": {},
   "source": [
    "### 2(c): Approach Chosen"
   ]
  },
  {
   "cell_type": "code",
   "execution_count": 40,
   "id": "01deffc3",
   "metadata": {},
   "outputs": [
    {
     "name": "stdout",
     "output_type": "stream",
     "text": [
      "Collaboratives filtering approach lives from finding many similar users(user-user model) or \n",
      "many similar items(item-item model).\n",
      "User similarities are measured by overlapping items and item similarities are measured by overlapping users.\n",
      "From the above two statistics, the overlapping items for users is much higher(11135) than overlapping users for items(226). \n",
      "Hence, I will implement the collaborative filetering approach using user-user model or user similarities.\n"
     ]
    }
   ],
   "source": [
    "print(\"\"\"Collaboratives filtering approach lives from finding many similar users(user-user model) or \n",
    "many similar items(item-item model).\n",
    "User similarities are measured by overlapping items and item similarities are measured by overlapping users.\n",
    "From the above two statistics, the overlapping items for users is much higher(11135) than overlapping users for items(226). \n",
    "Hence, I will implement the collaborative filetering approach using user-user model or user similarities.\"\"\")"
   ]
  },
  {
   "cell_type": "markdown",
   "id": "41461e96",
   "metadata": {},
   "source": [
    "## Utility Matrix"
   ]
  },
  {
   "cell_type": "markdown",
   "id": "6d7011ff",
   "metadata": {},
   "source": [
    "### Part 3: Collaborative Filtering Implementation"
   ]
  },
  {
   "cell_type": "markdown",
   "id": "b7f6ae7d",
   "metadata": {},
   "source": [
    "#### Step 1: Implementation"
   ]
  },
  {
   "cell_type": "markdown",
   "id": "7f79a647",
   "metadata": {},
   "source": [
    "##### Collaborative Filtering"
   ]
  },
  {
   "cell_type": "markdown",
   "id": "da0c1c00",
   "metadata": {},
   "source": [
    "###### Creating a Training and Validation Set"
   ]
  },
  {
   "cell_type": "code",
   "execution_count": 41,
   "id": "bc9548c8",
   "metadata": {},
   "outputs": [],
   "source": [
    "import pyspark.sql.functions as sql_func\n",
    "from pyspark.sql.types import *\n",
    "from pyspark.ml.recommendation import ALS, ALSModel\n",
    "from pyspark.context import SparkContext\n",
    "from pyspark.sql.session import SparkSession\n",
    "from pyspark.mllib.evaluation import RegressionMetrics, RankingMetrics\n",
    "from pyspark.ml.evaluation import RegressionEvaluator"
   ]
  },
  {
   "cell_type": "code",
   "execution_count": 44,
   "id": "13a1db4f",
   "metadata": {},
   "outputs": [
    {
     "name": "stderr",
     "output_type": "stream",
     "text": [
      "21/12/15 21:02:24 WARN CacheManager: Asked to cache already cached data.\n",
      "21/12/15 21:02:24 WARN CacheManager: Asked to cache already cached data.\n",
      "                                                                                \r"
     ]
    },
    {
     "name": "stdout",
     "output_type": "stream",
     "text": [
      "Training: 2604904, validation: 650447, test: 100477\n",
      "\n",
      "+-------+------+------+\n",
      "|MovieId|UserId|Rating|\n",
      "+-------+------+------+\n",
      "|      8|     7|   5.0|\n",
      "|      8|  1333|   3.0|\n",
      "|      8|  3321|   1.0|\n",
      "+-------+------+------+\n",
      "only showing top 3 rows\n",
      "\n",
      "+-------+------+------+\n",
      "|MovieId|UserId|Rating|\n",
      "+-------+------+------+\n",
      "|      8|  4706|   5.0|\n",
      "|      8|  5652|   3.0|\n",
      "|      8| 13197|   3.0|\n",
      "+-------+------+------+\n",
      "only showing top 3 rows\n",
      "\n",
      "+-------+-------+------+\n",
      "|MovieId| UserId|Rating|\n",
      "+-------+-------+------+\n",
      "|      8|2149668|   3.0|\n",
      "|      8|1089184|   3.0|\n",
      "|      8|2465894|   3.0|\n",
      "+-------+-------+------+\n",
      "only showing top 3 rows\n",
      "\n"
     ]
    }
   ],
   "source": [
    "# Creating a Training Set\n",
    "\n",
    "# We'll hold out 80% for training, 20% of our data for validation\n",
    "seed = 1800009193\n",
    "(split_80_df, split_20_df) = train_ratings_df.randomSplit([0.8, 0.2], seed=seed)\n",
    "\n",
    "# Let's cache these datasets for performance\n",
    "training_df = split_80_df.cache()\n",
    "validation_df = split_20_df.cache()\n",
    "test_df = test_ratings_df.cache()\n",
    "\n",
    "print('Training: {0}, validation: {1}, test: {2}\\n'.format(\n",
    "  training_df.count(), validation_df.count(), test_df.count()))\n",
    "training_df.show(3)\n",
    "validation_df.show(3)\n",
    "test_df.show(3)"
   ]
  },
  {
   "cell_type": "markdown",
   "id": "59f1c4b9",
   "metadata": {},
   "source": [
    "##### Build the Recommender"
   ]
  },
  {
   "cell_type": "markdown",
   "id": "d271c52f",
   "metadata": {},
   "source": [
    "##### Alternating Least Squares"
   ]
  },
  {
   "cell_type": "code",
   "execution_count": 45,
   "id": "03feb536",
   "metadata": {},
   "outputs": [
    {
     "name": "stderr",
     "output_type": "stream",
     "text": [
      "                                                                                \r"
     ]
    },
    {
     "name": "stdout",
     "output_type": "stream",
     "text": [
      "For rank 4 the RMSE is 0.8637802040072456\n"
     ]
    },
    {
     "name": "stderr",
     "output_type": "stream",
     "text": [
      "                                                                                \r"
     ]
    },
    {
     "name": "stdout",
     "output_type": "stream",
     "text": [
      "For rank 8 the RMSE is 0.8637802040072455\n"
     ]
    },
    {
     "name": "stderr",
     "output_type": "stream",
     "text": [
      "[Stage 388:==================================================>  (189 + 8) / 200]"
     ]
    },
    {
     "name": "stdout",
     "output_type": "stream",
     "text": [
      "For rank 12 the RMSE is 0.8637802040072456\n",
      "The best model was trained with rank 8\n"
     ]
    },
    {
     "name": "stderr",
     "output_type": "stream",
     "text": [
      "                                                                                \r"
     ]
    }
   ],
   "source": [
    "# This step is broken in ML Pipelines: https://issues.apache.org/jira/browse/SPARK-14489\n",
    "from pyspark.ml.recommendation import ALS\n",
    "\n",
    "# Let's initialize our ALS learner\n",
    "\n",
    "als = ALS(maxIter=5, regParam=0.1, \n",
    "          userCol=\"UserId\", itemCol=\"MovieId\", ratingCol=\"Rating\",\n",
    "          coldStartStrategy=\"drop\",\n",
    "          implicitPrefs=False)\n",
    "\n",
    "\n",
    "# Now let's compute an evaluation metric for our test dataset\n",
    "from pyspark.ml.evaluation import RegressionEvaluator\n",
    "\n",
    "# Create an RMSE evaluator using the label and predicted columns\n",
    "reg_eval = RegressionEvaluator(predictionCol=\"prediction\", labelCol=\"Rating\", metricName=\"rmse\")\n",
    "\n",
    "tolerance = 0.03\n",
    "ranks = [4, 8, 12]\n",
    "errors = [0, 0, 0]\n",
    "models = [0, 0, 0]\n",
    "err = 0\n",
    "min_error = float('inf')\n",
    "best_rank = -1\n",
    "for rank in ranks:\n",
    "  # Set the rank here:\n",
    "  als.rank    #fill \n",
    "  # Create the model with these parameters.\n",
    "  model = als.fit(training_df)\n",
    "  # Run the model to create a prediction. Predict against the validation_df.\n",
    "  predict_df = model.transform(validation_df)   #fill\n",
    "\n",
    "  # Remove NaN values from prediction (due to SPARK-14489)\n",
    "  predicted_ratings_df = predict_df.filter(predict_df.prediction != float('nan'))\n",
    "\n",
    "  # Run the previously created RMSE evaluator, reg_eval, on the predicted_ratings_df DataFrame\n",
    "  error = reg_eval.evaluate(predicted_ratings_df)\n",
    "  errors[err] = error\n",
    "  models[err] = model\n",
    "  print('For rank %s the RMSE is %s' % (rank, error))\n",
    "  if error < min_error:\n",
    "    min_error = error\n",
    "    best_rank = err\n",
    "  err += 1\n",
    "\n",
    "als.setRank(ranks[best_rank])\n",
    "print('The best model was trained with rank %s' % ranks[best_rank])\n",
    "my_model = models[best_rank]"
   ]
  },
  {
   "cell_type": "markdown",
   "id": "6f57b7b3",
   "metadata": {},
   "source": [
    "##### Test the recommender"
   ]
  },
  {
   "cell_type": "code",
   "execution_count": 46,
   "id": "828a0a1e",
   "metadata": {},
   "outputs": [
    {
     "name": "stderr",
     "output_type": "stream",
     "text": [
      "[Stage 408:====================================================>(198 + 2) / 200]"
     ]
    },
    {
     "name": "stdout",
     "output_type": "stream",
     "text": [
      "The model had a RMSE on the test set of 0.8648648275793531\n"
     ]
    },
    {
     "name": "stderr",
     "output_type": "stream",
     "text": [
      "                                                                                \r"
     ]
    }
   ],
   "source": [
    "# Testing Your Model\n",
    "# In ML Pipelines, this next step has a bug that produces unwanted NaN values. We\n",
    "# have to filter them out. See https://issues.apache.org/jira/browse/SPARK-14489\n",
    "\n",
    "predict_df = my_model.transform(test_df)\n",
    "\n",
    "# Remove NaN values from prediction (due to SPARK-14489)\n",
    "predicted_test_df = predict_df.filter(predict_df.prediction != float('nan'))\n",
    "\n",
    "# Run the previously created RMSE evaluator, reg_eval, on the predicted_test_df DataFrame\n",
    "\n",
    "test_RMSE = reg_eval.evaluate(predicted_test_df)\n",
    "\n",
    "print('The model had a RMSE on the test set of {0}'.format(test_RMSE))"
   ]
  },
  {
   "cell_type": "code",
   "execution_count": 62,
   "id": "8fe87005",
   "metadata": {},
   "outputs": [
    {
     "name": "stdout",
     "output_type": "stream",
     "text": [
      "+-------+-------+------+----------+\n",
      "|MovieId| UserId|Rating|prediction|\n",
      "+-------+-------+------+----------+\n",
      "|     28|2358799|   3.0|   3.78483|\n",
      "|    156| 973051|   5.0| 3.9910395|\n",
      "|    851|1189060|   3.0| 3.5878341|\n",
      "+-------+-------+------+----------+\n",
      "only showing top 3 rows\n",
      "\n"
     ]
    }
   ],
   "source": [
    "predicted_test_df.show(3)"
   ]
  },
  {
   "cell_type": "markdown",
   "id": "869caa1a",
   "metadata": {},
   "source": [
    "#### Step 2: Execution and Evaluation"
   ]
  },
  {
   "cell_type": "code",
   "execution_count": 47,
   "id": "39f53056",
   "metadata": {},
   "outputs": [
    {
     "name": "stdout",
     "output_type": "stream",
     "text": [
      "The average rating for movies in the training set is 3.4814234996759956\n",
      "The RMSE on the average set is 1.0852535809526271\n"
     ]
    }
   ],
   "source": [
    "# Comparing Your Model\n",
    "\n",
    "# Compute the average rating\n",
    "avg_rating_df = training_df.agg(F.avg(train_ratings_df.Rating).alias(\"average\"))\n",
    "\n",
    "# Extract the average rating value. (This is row 0, column 0.)\n",
    "training_avg_rating = avg_rating_df.collect()[0][0]\n",
    "\n",
    "print('The average rating for movies in the training set is {0}'.format(training_avg_rating))\n",
    "\n",
    "# Add a column with the average rating\n",
    "test_for_avg_df = test_df.withColumn('prediction', F.lit(training_avg_rating))\n",
    "\n",
    "# Run the previously created RMSE evaluator, reg_eval, on the test_for_avg_df DataFrame\n",
    "test_avg_RMSE = reg_eval.evaluate(test_for_avg_df)\n",
    "\n",
    "print(\"The RMSE on the average set is {0}\".format(test_avg_RMSE))"
   ]
  },
  {
   "cell_type": "code",
   "execution_count": 48,
   "id": "c84e5a59",
   "metadata": {},
   "outputs": [
    {
     "name": "stderr",
     "output_type": "stream",
     "text": [
      "                                                                                \r"
     ]
    },
    {
     "data": {
      "text/plain": [
       "28978"
      ]
     },
     "execution_count": 48,
     "metadata": {},
     "output_type": "execute_result"
    }
   ],
   "source": [
    "# Generate top 5 movie recommendations for each user\n",
    "userRecs = model.recommendForAllUsers(5)\n",
    "userRecs.count()"
   ]
  },
  {
   "cell_type": "code",
   "execution_count": 49,
   "id": "304e53e4",
   "metadata": {},
   "outputs": [
    {
     "name": "stderr",
     "output_type": "stream",
     "text": [
      "                                                                                \r"
     ]
    },
    {
     "name": "stdout",
     "output_type": "stream",
     "text": [
      "(28978, 2)\n"
     ]
    }
   ],
   "source": [
    "userRecs_df = userRecs.toPandas()\n",
    "print(userRecs_df.shape)"
   ]
  },
  {
   "cell_type": "code",
   "execution_count": 50,
   "id": "fce269a2",
   "metadata": {},
   "outputs": [
    {
     "data": {
      "text/html": [
       "<div>\n",
       "<style scoped>\n",
       "    .dataframe tbody tr th:only-of-type {\n",
       "        vertical-align: middle;\n",
       "    }\n",
       "\n",
       "    .dataframe tbody tr th {\n",
       "        vertical-align: top;\n",
       "    }\n",
       "\n",
       "    .dataframe thead th {\n",
       "        text-align: right;\n",
       "    }\n",
       "</style>\n",
       "<table border=\"1\" class=\"dataframe\">\n",
       "  <thead>\n",
       "    <tr style=\"text-align: right;\">\n",
       "      <th></th>\n",
       "      <th>UserId</th>\n",
       "      <th>recommendations</th>\n",
       "    </tr>\n",
       "  </thead>\n",
       "  <tbody>\n",
       "    <tr>\n",
       "      <th>0</th>\n",
       "      <td>481</td>\n",
       "      <td>[(4238, 5.233418941497803), (3033, 5.183670997...</td>\n",
       "    </tr>\n",
       "    <tr>\n",
       "      <th>1</th>\n",
       "      <td>2678</td>\n",
       "      <td>[(7569, 4.2683258056640625), (3033, 4.23158931...</td>\n",
       "    </tr>\n",
       "    <tr>\n",
       "      <th>2</th>\n",
       "      <td>3595</td>\n",
       "      <td>[(12293, 4.1894426345825195), (16147, 4.076137...</td>\n",
       "    </tr>\n",
       "    <tr>\n",
       "      <th>3</th>\n",
       "      <td>6460</td>\n",
       "      <td>[(12544, 4.642346382141113), (8933, 4.53262138...</td>\n",
       "    </tr>\n",
       "    <tr>\n",
       "      <th>4</th>\n",
       "      <td>7284</td>\n",
       "      <td>[(6522, 5.089906215667725), (8933, 5.008864879...</td>\n",
       "    </tr>\n",
       "  </tbody>\n",
       "</table>\n",
       "</div>"
      ],
      "text/plain": [
       "   UserId                                    recommendations\n",
       "0     481  [(4238, 5.233418941497803), (3033, 5.183670997...\n",
       "1    2678  [(7569, 4.2683258056640625), (3033, 4.23158931...\n",
       "2    3595  [(12293, 4.1894426345825195), (16147, 4.076137...\n",
       "3    6460  [(12544, 4.642346382141113), (8933, 4.53262138...\n",
       "4    7284  [(6522, 5.089906215667725), (8933, 5.008864879..."
      ]
     },
     "execution_count": 50,
     "metadata": {},
     "output_type": "execute_result"
    }
   ],
   "source": [
    "userRecs_df.head()"
   ]
  },
  {
   "cell_type": "markdown",
   "id": "63a4deea",
   "metadata": {},
   "source": [
    "### Step 3: Does your approach work for your own preferences?"
   ]
  },
  {
   "cell_type": "code",
   "execution_count": 51,
   "id": "90e19535",
   "metadata": {},
   "outputs": [
    {
     "name": "stdout",
     "output_type": "stream",
     "text": [
      "Most rated movies:\n",
      "average rating, movie name, number of reviews, movie ID\n"
     ]
    },
    {
     "name": "stderr",
     "output_type": "stream",
     "text": [
      "[Stage 494:>                                                        (0 + 4) / 4]"
     ]
    },
    {
     "name": "stdout",
     "output_type": "stream",
     "text": [
      "+--------------------+------------+------------------+\n",
      "|               Title|rating_count|    average_rating|\n",
      "+--------------------+------------+------------------+\n",
      "|       The Big Tease|         927| 3.112189859762675|\n",
      "|Police Academy 3:...|        2633|3.4135966578047854|\n",
      "|David Blaine: Fea...|         227|3.4537444933920707|\n",
      "|Godzilla vs. The ...|         243|3.5185185185185186|\n",
      "|Martha Stewart Ho...|          26|2.0384615384615383|\n",
      "|Halloween III: Se...|         601| 2.302828618968386|\n",
      "|     Parting Glances|         431|3.1531322505800463|\n",
      "|     Rich and Famous|          87|3.0114942528735633|\n",
      "| The Opposite of Sex|        6356|  3.29137822529893|\n",
      "|           Tiger Bay|          98|  2.86734693877551|\n",
      "|        Mother's Day|         147|2.5850340136054424|\n",
      "|       Captain Blood|         977|3.9365404298874105|\n",
      "|        Just 4 Kicks|          42|2.5476190476190474|\n",
      "|     The Inheritance|          53| 3.150943396226415|\n",
      "|              Animal|         219|3.1552511415525113|\n",
      "|        Fatal Beauty|        1781| 2.626614261650758|\n",
      "|          The Driver|         101|  3.01980198019802|\n",
      "|Ozzy Osbourne: Cr...|         129| 2.372093023255814|\n",
      "|    Sudden Manhattan|          44|              2.25|\n",
      "|Spike & Mike's Cu...|          42|2.5238095238095237|\n",
      "+--------------------+------------+------------------+\n",
      "only showing top 20 rows\n",
      "\n"
     ]
    },
    {
     "name": "stderr",
     "output_type": "stream",
     "text": [
      "                                                                                \r"
     ]
    }
   ],
   "source": [
    "# Your Movie Ratings\n",
    "\n",
    "print('Most rated movies:')\n",
    "print('average rating, movie name, number of reviews, movie ID')\n",
    "#display(movies_df.orderBy(movies_with_500_ratings_or_more['average'].desc()).take(50))\n",
    "most_rated_movies_df = train_ratings_df.join(movies_df, \"MovieId\")\n",
    "#most_rated_movies_df.orderBy('Rating', ascending = [0,1]).show()\n",
    "#most_rated_movies_df.groupBy('Title').filter('Rating  >= 4.0').show()\n",
    "most_rated_movies_average_ratings_df = most_rated_movies_df.groupBy('Title').agg(F.count(most_rated_movies_df.Rating).alias(\"rating_count\"), F.avg(most_rated_movies_df.Rating).alias(\"average_rating\"))\n",
    "most_rated_movies_average_ratings_df.show()"
   ]
  },
  {
   "cell_type": "markdown",
   "id": "4c532413",
   "metadata": {},
   "source": [
    "#### (3a) My Movie Ratings"
   ]
  },
  {
   "cell_type": "code",
   "execution_count": 66,
   "id": "36ea4f9e",
   "metadata": {},
   "outputs": [
    {
     "name": "stdout",
     "output_type": "stream",
     "text": [
      "My movie ratings:\n",
      "+-------+------+------+\n",
      "|MovieId|UserId|Rating|\n",
      "+-------+------+------+\n",
      "|   1425|     1|   5.0|\n",
      "|   2660|     1|   4.0|\n",
      "|  16082|     1|   3.0|\n",
      "|  16948|     1|   4.0|\n",
      "|   1615|     1|   4.0|\n",
      "|  14185|     1|   3.0|\n",
      "|  15690|     1|   4.0|\n",
      "|   2866|     1|   2.0|\n",
      "|  12232|     1|   1.0|\n",
      "|   9579|     1|   5.0|\n",
      "+-------+------+------+\n",
      "\n"
     ]
    }
   ],
   "source": [
    "from pyspark.sql import Row\n",
    "my_user_id = 1\n",
    "\n",
    "#fill\n",
    "# Note that the movie IDs are the *last* number on each line. A common error was to use the number of ratings as the movie ID.\n",
    "my_rated_movies = [\n",
    "     (1425, my_user_id, 5.0),\\\n",
    "     (1615, my_user_id, 4.0),\\\n",
    "     (2660, my_user_id, 4.0),\\\n",
    "     (14185, my_user_id, 3.0),\\\n",
    "     (15690, my_user_id, 4.0),\\\n",
    "     (16082, my_user_id, 3.0),\\\n",
    "     (2866, my_user_id, 2.0),\\\n",
    "     (16948, my_user_id, 4.0),\\\n",
    "     (12232, my_user_id, 1.0),\\\n",
    "     (9579, my_user_id, 5.0)\n",
    "     # The format of each line is (my_user_id, movie ID, your rating)\n",
    "     # For example, to give the movie \"Star Wars: Episode IV - A New Hope (1977)\" a five rating, you would add the following line:\n",
    "     #   (my_user_id, 260, 5),\n",
    "]\n",
    "\n",
    "my_ratings_df = sqlContext.createDataFrame(my_rated_movies, ['MovieId','UserId','Rating'])\n",
    "print('My movie ratings:')\n",
    "my_ratings_df.limit(10).show()"
   ]
  },
  {
   "cell_type": "markdown",
   "id": "1120106d",
   "metadata": {},
   "source": [
    "##### (3b) Add Your Movies to Training Dataset"
   ]
  },
  {
   "cell_type": "code",
   "execution_count": 67,
   "id": "4ead8eee",
   "metadata": {},
   "outputs": [
    {
     "name": "stdout",
     "output_type": "stream",
     "text": [
      "The training dataset now has 10 more entries than the original training dataset\n"
     ]
    }
   ],
   "source": [
    "# Add Your Movies to Training Dataset\n",
    "\n",
    "training_with_my_ratings_df = train_ratings_df.unionAll(my_ratings_df)\n",
    "\n",
    "print ('The training dataset now has %s more entries than the original training dataset' %\n",
    "       (training_with_my_ratings_df.count() - train_ratings_df.count()))\n",
    "assert (training_with_my_ratings_df.count() - train_ratings_df.count()) == my_ratings_df.count()"
   ]
  },
  {
   "cell_type": "code",
   "execution_count": 68,
   "id": "aa091159",
   "metadata": {},
   "outputs": [
    {
     "name": "stderr",
     "output_type": "stream",
     "text": [
      "[Stage 788:============================>                            (2 + 2) / 4]"
     ]
    },
    {
     "name": "stdout",
     "output_type": "stream",
     "text": [
      "+-------+-----------------+------------------+------------------+\n",
      "|summary|          MovieId|            UserId|            Rating|\n",
      "+-------+-----------------+------------------+------------------+\n",
      "|  count|          3255351|           3255351|           3255351|\n",
      "|   mean|8724.662781985722|1327058.3376840162|3.4811883572616287|\n",
      "| stddev|5107.400011271949| 762688.7721136078|1.0828725720369496|\n",
      "|    min|                8|                 7|               1.0|\n",
      "|    25%|             3893|            671697|               3.0|\n",
      "|    50%|             8825|           1322587|               4.0|\n",
      "|    75%|            13326|           1988919|               4.0|\n",
      "|    max|            17742|           2649285|               5.0|\n",
      "+-------+-----------------+------------------+------------------+\n",
      "\n"
     ]
    },
    {
     "name": "stderr",
     "output_type": "stream",
     "text": [
      "                                                                                \r"
     ]
    }
   ],
   "source": [
    "train_ratings_df.summary().show()"
   ]
  },
  {
   "cell_type": "code",
   "execution_count": 69,
   "id": "65f2347d",
   "metadata": {},
   "outputs": [
    {
     "name": "stderr",
     "output_type": "stream",
     "text": [
      "[Stage 791:=============================================>         (10 + 2) / 12]"
     ]
    },
    {
     "name": "stdout",
     "output_type": "stream",
     "text": [
      "+-------+-----------------+------------------+-----------------+\n",
      "|summary|          MovieId|            UserId|           Rating|\n",
      "+-------+-----------------+------------------+-----------------+\n",
      "|  count|          3255361|           3255361|          3255361|\n",
      "|   mean|8724.664635965106|1327054.2611550607|3.481188415048285|\n",
      "| stddev|5107.403836424692| 762691.1471884635|1.082872965979906|\n",
      "|    min|                8|                 1|              1.0|\n",
      "|    25%|             3893|            671697|              3.0|\n",
      "|    50%|             8825|           1322587|              4.0|\n",
      "|    75%|            13326|           1988919|              4.0|\n",
      "|    max|            17742|           2649285|              5.0|\n",
      "+-------+-----------------+------------------+-----------------+\n",
      "\n"
     ]
    },
    {
     "name": "stderr",
     "output_type": "stream",
     "text": [
      "                                                                                \r"
     ]
    }
   ],
   "source": [
    "training_with_my_ratings_df.summary().show()"
   ]
  },
  {
   "cell_type": "markdown",
   "id": "e03fcd9f",
   "metadata": {},
   "source": [
    "##### (3c) Train a Model with Your Ratings"
   ]
  },
  {
   "cell_type": "code",
   "execution_count": 70,
   "id": "6a5500cf",
   "metadata": {},
   "outputs": [
    {
     "name": "stderr",
     "output_type": "stream",
     "text": [
      "                                                                                \r"
     ]
    }
   ],
   "source": [
    "# Reset the parameters for the ALS object.\n",
    "als.setPredictionCol(\"prediction\")\\\n",
    "   .setMaxIter(5)\\\n",
    "   .setSeed(seed)\\\n",
    "   .setUserCol(\"UserId\")\\\n",
    "   .setItemCol(\"MovieId\")\\\n",
    "   .setRatingCol(\"Rating\")\n",
    "\n",
    "# Create the model with these parameters.\n",
    "#my_ratings_model = als.<FILL_IN>\n",
    "my_ratings_model = als.fit(training_with_my_ratings_df)"
   ]
  },
  {
   "cell_type": "markdown",
   "id": "ac085ca2",
   "metadata": {},
   "source": [
    "##### (3d) Check RMSE for the New Model with Your Ratings"
   ]
  },
  {
   "cell_type": "code",
   "execution_count": 71,
   "id": "deb71a03",
   "metadata": {},
   "outputs": [
    {
     "name": "stderr",
     "output_type": "stream",
     "text": [
      "[Stage 848:================================>                    (124 + 8) / 200]"
     ]
    },
    {
     "name": "stdout",
     "output_type": "stream",
     "text": [
      "The model had a RMSE on the test set of 0.8659527667037572\n"
     ]
    },
    {
     "name": "stderr",
     "output_type": "stream",
     "text": [
      "                                                                                \r"
     ]
    }
   ],
   "source": [
    "my_predict_df = my_ratings_model.transform(test_df)\n",
    "\n",
    "# Remove NaN values from prediction (due to SPARK-14489)\n",
    "predicted_test_my_ratings_df = my_predict_df.filter(my_predict_df.prediction != float('nan'))\n",
    "\n",
    "# Run the previously created RMSE evaluator, reg_eval, on the predicted_test_my_ratings_df DataFrame\n",
    "\n",
    "test_RMSE_my_ratings = reg_eval.evaluate(predicted_test_my_ratings_df)\n",
    "print('The model had a RMSE on the test set of {0}'.format(test_RMSE_my_ratings))"
   ]
  },
  {
   "cell_type": "code",
   "execution_count": 72,
   "id": "e22805d6",
   "metadata": {},
   "outputs": [
    {
     "name": "stdout",
     "output_type": "stream",
     "text": [
      "+-------+------+------+----------+\n",
      "|MovieId|UserId|Rating|prediction|\n",
      "+-------+------+------+----------+\n",
      "|  15496|     7|   5.0| 3.7315006|\n",
      "|   9528|     7|   5.0|  4.362616|\n",
      "|   8163|    79|   3.0| 3.3374395|\n",
      "|   2913|    79|   4.0| 3.8379288|\n",
      "|  14648|    79|   5.0|  4.281792|\n",
      "|  12497|    79|   4.0|  3.354691|\n",
      "|   3165|   199|   5.0|  3.663073|\n",
      "|   3541|   199|   3.0| 3.9297366|\n",
      "|   2518|   199|   4.0| 3.6155295|\n",
      "|   8851|   199|   4.0| 3.9575157|\n",
      "|  14185|   481|   4.0| 4.4459743|\n",
      "|    851|   481|   5.0| 4.5181932|\n",
      "|  14712|   769|   2.0| 2.0519073|\n",
      "|  16731|   769|   4.0| 3.2350373|\n",
      "|   6190|   769|   3.0| 2.9281616|\n",
      "|   6287|   769|   4.0|  2.469206|\n",
      "|    797|   906|   1.0|  3.286673|\n",
      "|  14484|   906|   3.0| 3.3645842|\n",
      "|  11182|  1310|   5.0| 3.3378527|\n",
      "|   5069|  1310|   2.0| 3.0583959|\n",
      "+-------+------+------+----------+\n",
      "only showing top 20 rows\n",
      "\n"
     ]
    }
   ],
   "source": [
    "predicted_test_my_ratings_df.orderBy('UserId').show()"
   ]
  },
  {
   "cell_type": "code",
   "execution_count": 73,
   "id": "3261103f",
   "metadata": {},
   "outputs": [
    {
     "name": "stderr",
     "output_type": "stream",
     "text": [
      "                                                                                \r"
     ]
    },
    {
     "data": {
      "text/plain": [
       "28979"
      ]
     },
     "execution_count": 73,
     "metadata": {},
     "output_type": "execute_result"
    }
   ],
   "source": [
    "# Generate top 5 movie recommendations for each user\n",
    "userRecs = my_ratings_model.recommendForAllUsers(5)\n",
    "userRecs.count()"
   ]
  },
  {
   "cell_type": "code",
   "execution_count": 74,
   "id": "222c3f1c",
   "metadata": {},
   "outputs": [
    {
     "name": "stderr",
     "output_type": "stream",
     "text": [
      "                                                                                \r"
     ]
    },
    {
     "name": "stdout",
     "output_type": "stream",
     "text": [
      "(28979, 2)\n"
     ]
    }
   ],
   "source": [
    "userRecs_df = userRecs.toPandas()\n",
    "print(userRecs_df.shape)"
   ]
  },
  {
   "cell_type": "code",
   "execution_count": 75,
   "id": "35dc9143",
   "metadata": {},
   "outputs": [
    {
     "data": {
      "text/html": [
       "<div>\n",
       "<style scoped>\n",
       "    .dataframe tbody tr th:only-of-type {\n",
       "        vertical-align: middle;\n",
       "    }\n",
       "\n",
       "    .dataframe tbody tr th {\n",
       "        vertical-align: top;\n",
       "    }\n",
       "\n",
       "    .dataframe thead th {\n",
       "        text-align: right;\n",
       "    }\n",
       "</style>\n",
       "<table border=\"1\" class=\"dataframe\">\n",
       "  <thead>\n",
       "    <tr style=\"text-align: right;\">\n",
       "      <th></th>\n",
       "      <th>UserId</th>\n",
       "      <th>recommendations</th>\n",
       "    </tr>\n",
       "  </thead>\n",
       "  <tbody>\n",
       "    <tr>\n",
       "      <th>0</th>\n",
       "      <td>481</td>\n",
       "      <td>[(3033, 5.149134635925293), (4238, 5.138109683...</td>\n",
       "    </tr>\n",
       "    <tr>\n",
       "      <th>1</th>\n",
       "      <td>2678</td>\n",
       "      <td>[(7569, 4.19780158996582), (6991, 4.0455470085...</td>\n",
       "    </tr>\n",
       "    <tr>\n",
       "      <th>2</th>\n",
       "      <td>3595</td>\n",
       "      <td>[(12293, 4.227561950683594), (3290, 4.09849262...</td>\n",
       "    </tr>\n",
       "    <tr>\n",
       "      <th>3</th>\n",
       "      <td>6460</td>\n",
       "      <td>[(10080, 4.582267761230469), (359, 4.461654663...</td>\n",
       "    </tr>\n",
       "    <tr>\n",
       "      <th>4</th>\n",
       "      <td>7284</td>\n",
       "      <td>[(9701, 4.913458347320557), (6522, 4.907984256...</td>\n",
       "    </tr>\n",
       "  </tbody>\n",
       "</table>\n",
       "</div>"
      ],
      "text/plain": [
       "   UserId                                    recommendations\n",
       "0     481  [(3033, 5.149134635925293), (4238, 5.138109683...\n",
       "1    2678  [(7569, 4.19780158996582), (6991, 4.0455470085...\n",
       "2    3595  [(12293, 4.227561950683594), (3290, 4.09849262...\n",
       "3    6460  [(10080, 4.582267761230469), (359, 4.461654663...\n",
       "4    7284  [(9701, 4.913458347320557), (6522, 4.907984256..."
      ]
     },
     "execution_count": 75,
     "metadata": {},
     "output_type": "execute_result"
    }
   ],
   "source": [
    "userRecs_df.head()"
   ]
  },
  {
   "cell_type": "code",
   "execution_count": 84,
   "id": "c37f58e7",
   "metadata": {},
   "outputs": [
    {
     "data": {
      "text/html": [
       "<div>\n",
       "<style scoped>\n",
       "    .dataframe tbody tr th:only-of-type {\n",
       "        vertical-align: middle;\n",
       "    }\n",
       "\n",
       "    .dataframe tbody tr th {\n",
       "        vertical-align: top;\n",
       "    }\n",
       "\n",
       "    .dataframe thead th {\n",
       "        text-align: right;\n",
       "    }\n",
       "</style>\n",
       "<table border=\"1\" class=\"dataframe\">\n",
       "  <thead>\n",
       "    <tr style=\"text-align: right;\">\n",
       "      <th></th>\n",
       "      <th>UserId</th>\n",
       "      <th>recommendations</th>\n",
       "    </tr>\n",
       "  </thead>\n",
       "  <tbody>\n",
       "    <tr>\n",
       "      <th>1150</th>\n",
       "      <td>1</td>\n",
       "      <td>[(9579, 4.64711332321167), (15183, 3.981461763...</td>\n",
       "    </tr>\n",
       "  </tbody>\n",
       "</table>\n",
       "</div>"
      ],
      "text/plain": [
       "      UserId                                    recommendations\n",
       "1150       1  [(9579, 4.64711332321167), (15183, 3.981461763..."
      ]
     },
     "execution_count": 84,
     "metadata": {},
     "output_type": "execute_result"
    }
   ],
   "source": [
    "userRecs_df.loc[userRecs_df['UserId'] == 1]"
   ]
  }
 ],
 "metadata": {
  "kernelspec": {
   "display_name": "Python 3 (ipykernel)",
   "language": "python",
   "name": "python3"
  },
  "language_info": {
   "codemirror_mode": {
    "name": "ipython",
    "version": 3
   },
   "file_extension": ".py",
   "mimetype": "text/x-python",
   "name": "python",
   "nbconvert_exporter": "python",
   "pygments_lexer": "ipython3",
   "version": "3.7.10"
  }
 },
 "nbformat": 4,
 "nbformat_minor": 5
}
